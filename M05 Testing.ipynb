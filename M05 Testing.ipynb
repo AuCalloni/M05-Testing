{
 "cells": [
  {
   "metadata": {},
   "cell_type": "markdown",
   "source": "Unit Tests vs Integration Tests\n",
   "id": "af12cce2729c6a3"
  },
  {
   "metadata": {
    "ExecuteTime": {
     "end_time": "2024-07-01T11:00:24.369625Z",
     "start_time": "2024-07-01T11:00:24.367036Z"
    }
   },
   "cell_type": "code",
   "source": [
    "def test_sum():\n",
    "    assert sum([1, 2, 3]) == 6, \"Should be 6\"\n",
    "\n",
    "def test_sum_tuple():\n",
    "    assert sum((1, 2, 2)) == 6, \"Should be 6\"\n",
    "\n",
    "test_sum()"
   ],
   "id": "9e2be3b0217a1f85",
   "outputs": [],
   "execution_count": 7
  },
  {
   "metadata": {},
   "cell_type": "code",
   "outputs": [],
   "execution_count": null,
   "source": "",
   "id": "2524758ac184e323"
  }
 ],
 "metadata": {
  "kernelspec": {
   "display_name": "Python 3",
   "language": "python",
   "name": "python3"
  },
  "language_info": {
   "codemirror_mode": {
    "name": "ipython",
    "version": 2
   },
   "file_extension": ".py",
   "mimetype": "text/x-python",
   "name": "python",
   "nbconvert_exporter": "python",
   "pygments_lexer": "ipython2",
   "version": "2.7.6"
  }
 },
 "nbformat": 4,
 "nbformat_minor": 5
}
